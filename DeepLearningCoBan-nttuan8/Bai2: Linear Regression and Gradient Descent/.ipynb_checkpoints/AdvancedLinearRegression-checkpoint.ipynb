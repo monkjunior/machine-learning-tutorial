{
 "cells": [
  {
   "cell_type": "code",
   "execution_count": 1,
   "metadata": {},
   "outputs": [],
   "source": [
    "import numpy as np\n",
    "import pandas as pd\n",
    "import matplotlib.pyplot as plt"
   ]
  },
  {
   "cell_type": "code",
   "execution_count": 3,
   "metadata": {},
   "outputs": [
    {
     "name": "stdout",
     "output_type": "stream",
     "text": [
      "Number of data: 30\n",
      "\n",
      "[[  30.     -100.    ]\n",
      " [  32.4138 -190.725 ]\n",
      " [  34.8276 -269.798 ]\n",
      " [  37.2414 -337.218 ]\n",
      " [  39.6552 -392.985 ]] \n",
      "...\n"
     ]
    }
   ],
   "source": [
    "# Use pandas to read data\n",
    "data = pd.read_csv('data_square.csv').values\n",
    "N = data.shape[0]\n",
    "print(f\"Number of data: {N}\\n\")\n",
    "print(f\"{data[0:5]} \\n...\")"
   ]
  },
  {
   "cell_type": "code",
   "execution_count": 6,
   "metadata": {},
   "outputs": [
    {
     "name": "stdout",
     "output_type": "stream",
     "text": [
      "(30, 1)\n",
      "(30,)\n"
     ]
    }
   ],
   "source": [
    "X = data[:, 0].reshape(1,N).T\n",
    "y = data[:, 1]\n",
    "print(X.shape)\n",
    "print(y.shape)"
   ]
  },
  {
   "cell_type": "code",
   "execution_count": 7,
   "metadata": {},
   "outputs": [
    {
     "name": "stdout",
     "output_type": "stream",
     "text": [
      "[[1.00000000e+00 3.00000000e+01 9.00000000e+02]\n",
      " [1.00000000e+00 3.24138000e+01 1.05065443e+03]\n",
      " [1.00000000e+00 3.48276000e+01 1.21296172e+03]\n",
      " [1.00000000e+00 3.72414000e+01 1.38692187e+03]\n",
      " [1.00000000e+00 3.96552000e+01 1.57253489e+03]\n",
      " [1.00000000e+00 4.20690000e+01 1.76980076e+03]\n",
      " [1.00000000e+00 4.44828000e+01 1.97871950e+03]\n",
      " [1.00000000e+00 4.68966000e+01 2.19929109e+03]\n",
      " [1.00000000e+00 4.93103000e+01 2.43150569e+03]\n",
      " [1.00000000e+00 5.17241000e+01 2.67538252e+03]\n",
      " [1.00000000e+00 5.41379000e+01 2.93091222e+03]\n",
      " [1.00000000e+00 5.65517000e+01 3.19809477e+03]\n",
      " [1.00000000e+00 5.89655000e+01 3.47693019e+03]\n",
      " [1.00000000e+00 6.13793000e+01 3.76741847e+03]\n",
      " [1.00000000e+00 6.37931000e+01 4.06955961e+03]\n",
      " [1.00000000e+00 6.62069000e+01 4.38335361e+03]\n",
      " [1.00000000e+00 6.86207000e+01 4.70880047e+03]\n",
      " [1.00000000e+00 7.10345000e+01 5.04590019e+03]\n",
      " [1.00000000e+00 7.34483000e+01 5.39465277e+03]\n",
      " [1.00000000e+00 7.58621000e+01 5.75505822e+03]\n",
      " [1.00000000e+00 7.82759000e+01 6.12711652e+03]\n",
      " [1.00000000e+00 8.06897000e+01 6.51082769e+03]\n",
      " [1.00000000e+00 8.31034000e+01 6.90617509e+03]\n",
      " [1.00000000e+00 8.55172000e+01 7.31319150e+03]\n",
      " [1.00000000e+00 8.79310000e+01 7.73186076e+03]\n",
      " [1.00000000e+00 9.03448000e+01 8.16218289e+03]\n",
      " [1.00000000e+00 9.27586000e+01 8.60415787e+03]\n",
      " [1.00000000e+00 9.51724000e+01 9.05778572e+03]\n",
      " [1.00000000e+00 9.75862000e+01 9.52306643e+03]\n",
      " [1.00000000e+00 1.00000000e+02 1.00000000e+04]]\n"
     ]
    }
   ],
   "source": [
    "# Building Xbar for bias trick\n",
    "one = np.ones(( N , 1))\n",
    "Xbar = np.concatenate((one, X, X*X), axis = 1) # each point is one row\n",
    "print(Xbar)"
   ]
  },
  {
   "cell_type": "code",
   "execution_count": 8,
   "metadata": {},
   "outputs": [
    {
     "name": "stdout",
     "output_type": "stream",
     "text": [
      "5 first values of Xbar:\n",
      "\n",
      "[[1.00000000e+00 3.00000000e+01 9.00000000e+02]\n",
      " [1.00000000e+00 3.24138000e+01 1.05065443e+03]\n",
      " [1.00000000e+00 3.48276000e+01 1.21296172e+03]\n",
      " [1.00000000e+00 3.72414000e+01 1.38692187e+03]\n",
      " [1.00000000e+00 3.96552000e+01 1.57253489e+03]]\n",
      "weight:\n",
      "\n",
      "(3,)\n"
     ]
    }
   ],
   "source": [
    "# Calculating weights of the fitting line\n",
    "# np.dot() dot product - phep nhan vo huong\n",
    "\n",
    "A = np.dot(Xbar.T, Xbar)\n",
    "b = np.dot(Xbar.T, y)\n",
    "w = np.dot(np.linalg.pinv(A), b)\n",
    "# weights\n",
    "w_0, w_1, w_2 = w[0], w[1], w[2]\n",
    "\n",
    "print(f\"5 first values of Xbar:\\n\\n{Xbar[0:5]}\")\n",
    "print(f\"weight:\\n\\n{w.shape}\")"
   ]
  },
  {
   "cell_type": "code",
   "execution_count": 9,
   "metadata": {},
   "outputs": [
    {
     "name": "stdout",
     "output_type": "stream",
     "text": [
      "[ 2.00000579e+03 -1.00000222e+02  1.00000199e+00]\n"
     ]
    }
   ],
   "source": [
    "print(w)"
   ]
  },
  {
   "cell_type": "code",
   "execution_count": 10,
   "metadata": {},
   "outputs": [
    {
     "data": {
      "image/png": "[encoded data removed]",
      "text/plain": [
       "<Figure size 432x288 with 1 Axes>"
      ]
     },
     "metadata": {
      "needs_background": "light"
     },
     "output_type": "display_data"
    }
   ],
   "source": [
    "xs = np.linspace(-25, 100, 1000)\n",
    "ys = w_2*xs*xs + w_1*xs + w_0\n",
    "plt.scatter(data[:, 0].reshape(-1, 1), data[:, 1].reshape(-1, 1))\n",
    "plt.xlabel('mét vuông')\n",
    "plt.ylabel('giá')\n",
    "plt.plot(xs, ys, '-r', label=f'y = {round(w_2, 2)}x**2 + {round(w_1, 2)}x + {round(w_0, 2)}')\n",
    "plt.legend(loc='upper left')\n",
    "plt.grid()\n",
    "plt.show()\n"
   ]
  },
  {
   "cell_type": "code",
   "execution_count": null,
   "metadata": {},
   "outputs": [],
   "source": []
  }
 ],
 "metadata": {
  "kernelspec": {
   "display_name": "Python 3",
   "language": "python",
   "name": "python3"
  },
  "language_info": {
   "codemirror_mode": {
    "name": "ipython",
    "version": 3
   },
   "file_extension": ".py",
   "mimetype": "text/x-python",
   "name": "python",
   "nbconvert_exporter": "python",
   "pygments_lexer": "ipython3",
   "version": "3.7.3"
  }
 },
 "nbformat": 4,
 "nbformat_minor": 2
}
