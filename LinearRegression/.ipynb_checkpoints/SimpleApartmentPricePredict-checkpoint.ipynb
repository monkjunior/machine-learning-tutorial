{
 "cells": [
  {
   "cell_type": "code",
   "execution_count": 1,
   "metadata": {},
   "outputs": [],
   "source": [
    "import numpy as np\n",
    "import pandas as pd\n",
    "import matplotlib.pyplot as plt"
   ]
  },
  {
   "cell_type": "code",
   "execution_count": 2,
   "metadata": {},
   "outputs": [
    {
     "name": "stdout",
     "output_type": "stream",
     "text": [
      "Number of data: 30\n",
      "\n",
      "[[ 30.     448.524 ]\n",
      " [ 32.4138 509.248 ]\n",
      " [ 34.8276 535.104 ]\n",
      " [ 37.2414 551.432 ]\n",
      " [ 39.6552 623.418 ]] \n",
      "...\n"
     ]
    }
   ],
   "source": [
    "# Use pandas to read data\n",
    "data = pd.read_csv('data_linear.csv').values\n",
    "N = data.shape[0]\n",
    "print(f\"Number of data: {N}\\n\")\n",
    "print(f\"{data[0:5]} \\n...\")"
   ]
  },
  {
   "cell_type": "code",
   "execution_count": 3,
   "metadata": {},
   "outputs": [
    {
     "name": "stdout",
     "output_type": "stream",
     "text": [
      "(30, 1)\n",
      "(30,)\n"
     ]
    }
   ],
   "source": [
    "X = data[:, 0].reshape(1,N).T\n",
    "y = data[:, 1]\n",
    "print(X.shape)\n",
    "print(y.shape)"
   ]
  },
  {
   "cell_type": "code",
   "execution_count": 4,
   "metadata": {},
   "outputs": [
    {
     "name": "stdout",
     "output_type": "stream",
     "text": [
      "5 first values of Xbar:\n",
      "\n",
      "[[ 1.     30.    ]\n",
      " [ 1.     32.4138]\n",
      " [ 1.     34.8276]\n",
      " [ 1.     37.2414]\n",
      " [ 1.     39.6552]]\n",
      "weight:\n",
      "\n",
      "(2,)\n"
     ]
    }
   ],
   "source": [
    "# Building Xbar for bias trick\n",
    "one = np.ones(( N , 1))\n",
    "Xbar = np.concatenate((one, X), axis = 1) # each point is one row\n",
    "\n",
    "# Calculating weights of the fitting line\n",
    "# np.dot() dot product - phep nhan vo huong\n",
    "\n",
    "A = np.dot(Xbar.T, Xbar)\n",
    "b = np.dot(Xbar.T, y)\n",
    "w = np.dot(np.linalg.pinv(A), b)\n",
    "# weights\n",
    "w_0, w_1 = w[0], w[1]\n",
    "\n",
    "print(f\"5 first values of Xbar:\\n\\n{Xbar[0:5]}\")\n",
    "print(f\"weight:\\n\\n{w.shape}\")"
   ]
  },
  {
   "cell_type": "code",
   "execution_count": 8,
   "metadata": {},
   "outputs": [
    {
     "name": "stdout",
     "output_type": "stream",
     "text": [
      "Căn nhà 50m2 sẽ có giá khoảng 753.49 triệu VNĐ\n"
     ]
    }
   ],
   "source": [
    "y1 = w_1*50 + w_0\n",
    "print(f\"Căn nhà 50m2 sẽ có giá khoảng {round(y1,3)} triệu VNĐ\")"
   ]
  },
  {
   "cell_type": "code",
   "execution_count": 6,
   "metadata": {},
   "outputs": [
    {
     "data": {
      "image/png": "[encoded data removed]",
      "text/plain": [
       "<Figure size 432x288 with 1 Axes>"
      ]
     },
     "metadata": {
      "needs_background": "light"
     },
     "output_type": "display_data"
    }
   ],
   "source": [
    "xs = np.linspace(25,110,100)\n",
    "ys = w_1*xs + w_0\n",
    "plt.scatter(X, y)\n",
    "plt.xlabel('mét vuông')\n",
    "plt.ylabel('giá')\n",
    "plt.plot(xs, ys, '-r', label=f'y = {round(w_1, 2)}x + {round(w_0, 2)}')\n",
    "plt.legend(loc='upper left')\n",
    "plt.grid()\n",
    "plt.show()"
   ]
  },
  {
   "cell_type": "code",
   "execution_count": 7,
   "metadata": {},
   "outputs": [
    {
     "name": "stdout",
     "output_type": "stream",
     "text": [
      "5\n"
     ]
    }
   ],
   "source": [
    "print(np.dot(np.array([1,2,0]).T,np.array([1,2,3])))"
   ]
  },
  {
   "cell_type": "code",
   "execution_count": 16,
   "metadata": {},
   "outputs": [
    {
     "name": "stdout",
     "output_type": "stream",
     "text": [
      "scikit-learn’s solution :\t w_1 =  15.211090799670433 \tw_0 =  -7.064268645244624\n",
      "our solution:\t\t\t w_1 =  15.211090799668852 \tw_0 =  -7.0642686451283225\n"
     ]
    }
   ],
   "source": [
    "# Compare with scikit-learn lib\n",
    "from sklearn import datasets, linear_model\n",
    "# fit the model by Linear Regression\n",
    "regr = linear_model.LinearRegression()\n",
    "regr.fit(X, y) # in scikit-learn, each sample is one row\n",
    "# Compare two results\n",
    "print(\"scikit-learn’s solution :\\t w_1 = \", regr.coef_[0], \"\\tw_0 = \", regr.intercept_)\n",
    "print(\"our solution:\\t\\t\\t w_1 = \", w[1], \"\\tw_0 = \", w[0])"
   ]
  }
 ],
 "metadata": {
  "kernelspec": {
   "display_name": "Python 3",
   "language": "python",
   "name": "python3"
  },
  "language_info": {
   "codemirror_mode": {
    "name": "ipython",
    "version": 3
   },
   "file_extension": ".py",
   "mimetype": "text/x-python",
   "name": "python",
   "nbconvert_exporter": "python",
   "pygments_lexer": "ipython3",
   "version": "3.7.3"
  }
 },
 "nbformat": 4,
 "nbformat_minor": 2
}
